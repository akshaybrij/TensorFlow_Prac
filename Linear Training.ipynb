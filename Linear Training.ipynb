{
 "cells": [
  {
   "cell_type": "code",
   "execution_count": 1,
   "metadata": {},
   "outputs": [],
   "source": [
    "import tensorflow as tf\n",
    "import pandas as pd\n",
    "import matplotlib.pyplot as plt\n",
    "import numpy as np\n",
    "tf.enable_eager_execution()"
   ]
  },
  {
   "cell_type": "code",
   "execution_count": 2,
   "metadata": {},
   "outputs": [
    {
     "name": "stdout",
     "output_type": "stream",
     "text": [
      "WARNING:tensorflow:From /anaconda3/envs/tflow/lib/python3.7/site-packages/tensorflow/python/ops/resource_variable_ops.py:642: colocate_with (from tensorflow.python.framework.ops) is deprecated and will be removed in a future version.\n",
      "Instructions for updating:\n",
      "Colocations handled automatically by placer.\n"
     ]
    }
   ],
   "source": [
    "class Model(object):\n",
    "    def __init__(self):\n",
    "        self.W = tf.Variable(5.0)\n",
    "        self.b = tf.Variable(2.0)\n",
    "    \n",
    "    def __call__(self,x):\n",
    "        return x * self.W + self.b\n",
    "\n",
    "model = Model()\n",
    "assert model(3.0).numpy() == 17.0"
   ]
  },
  {
   "cell_type": "code",
   "execution_count": 10,
   "metadata": {},
   "outputs": [],
   "source": [
    "def loss(predicted_output,desired_output):\n",
    "    return  tf.reduce_mean(tf.square(predicted_output-desired_output))"
   ]
  },
  {
   "cell_type": "code",
   "execution_count": 11,
   "metadata": {},
   "outputs": [],
   "source": [
    "true_w=1.0\n",
    "true_b=1.0\n",
    "num_ex=1000\n",
    "inputs=tf.random_normal(shape=[num_ex])\n",
    "noise=tf.random_normal(shape=[num_ex])\n",
    "output=true_w*inputs+true_b+noise"
   ]
  },
  {
   "cell_type": "code",
   "execution_count": 12,
   "metadata": {},
   "outputs": [
    {
     "data": {
      "image/png": "[encoded data removed]",
      "text/plain": [
       "<Figure size 432x288 with 1 Axes>"
      ]
     },
     "metadata": {
      "needs_background": "light"
     },
     "output_type": "display_data"
    }
   ],
   "source": [
    "plt.scatter(inputs,output,c='b')\n",
    "plt.scatter(inputs,model(output),c='r')\n",
    "plt.show()"
   ]
  },
  {
   "cell_type": "code",
   "execution_count": 15,
   "metadata": {},
   "outputs": [
    {
     "name": "stdout",
     "output_type": "stream",
     "text": [
      "Loss tf.Tensor(18.136189, shape=(), dtype=float32)\n"
     ]
    }
   ],
   "source": [
    "print(\"Loss %s\" % (loss(model(inputs),output)))"
   ]
  },
  {
   "cell_type": "code",
   "execution_count": 16,
   "metadata": {},
   "outputs": [],
   "source": [
    "def train(model,inputs,output,l_r):\n",
    "    with tf.GradientTape() as tg:\n",
    "        current_loss = loss(model(inputs),output)\n",
    "    dw,db=tg.gradient(current_loss,[model.W,model.b])\n",
    "    model.W.assign_sub(l_r*dw)\n",
    "    model.b.assign_sub(l_r*db)"
   ]
  },
  {
   "cell_type": "code",
   "execution_count": 19,
   "metadata": {},
   "outputs": [
    {
     "name": "stdout",
     "output_type": "stream",
     "text": [
      "Epochs 0: Weight 5.00 Bias 2.00 loss 18.13619\n",
      "Epochs 1: Weight 4.92 Bias 1.98 loss 17.45029\n",
      "Epochs 2: Weight 4.84 Bias 1.96 loss 16.79181\n",
      "Epochs 3: Weight 4.76 Bias 1.94 loss 16.15963\n",
      "Epochs 4: Weight 4.69 Bias 1.92 loss 15.55272\n",
      "Epochs 5: Weight 4.61 Bias 1.90 loss 14.97006\n",
      "Epochs 6: Weight 4.54 Bias 1.88 loss 14.41068\n",
      "Epochs 7: Weight 4.47 Bias 1.86 loss 13.87366\n",
      "Epochs 8: Weight 4.40 Bias 1.85 loss 13.35809\n",
      "Epochs 9: Weight 4.33 Bias 1.83 loss 12.86313\n"
     ]
    }
   ],
   "source": [
    "model = Model()\n",
    "Ws,bs=[],[]\n",
    "losses=[]\n",
    "epochs = 10\n",
    "for epoch in range(epochs):\n",
    "    Ws.append(model.W.numpy())\n",
    "    bs.append(model.b.numpy())\n",
    "    current_loss = loss(model(inputs),output)\n",
    "    losses.append(current_loss)\n",
    "    train(model,inputs,output,0.01)\n",
    "    print(\"Epochs %d: Weight %1.2f Bias %1.2f loss %2.5f\" % (epoch,Ws[-1],bs[-1],current_loss))\n",
    "    "
   ]
  }
 ],
 "metadata": {
  "kernelspec": {
   "display_name": "Python 3",
   "language": "python",
   "name": "python3"
  },
  "language_info": {
   "codemirror_mode": {
    "name": "ipython",
    "version": 3
   },
   "file_extension": ".py",
   "mimetype": "text/x-python",
   "name": "python",
   "nbconvert_exporter": "python",
   "pygments_lexer": "ipython3",
   "version": "3.7.2"
  }
 },
 "nbformat": 4,
 "nbformat_minor": 2
}
